{
 "cells": [
  {
   "cell_type": "markdown",
   "metadata": {},
   "source": [
    "## Imports"
   ]
  },
  {
   "cell_type": "code",
   "execution_count": 38,
   "metadata": {},
   "outputs": [
    {
     "name": "stdout",
     "output_type": "stream",
     "text": [
      "Requirement already satisfied: surprise in /usr/local/lib/python3.6/dist-packages (0.1)\r\n",
      "Requirement already satisfied: scikit-surprise in /usr/local/lib/python3.6/dist-packages (from surprise) (1.1.0)\r\n",
      "Requirement already satisfied: joblib>=0.11 in /usr/local/lib/python3.6/dist-packages (from scikit-surprise->surprise) (0.14.0)\r\n",
      "Requirement already satisfied: scipy>=1.0.0 in /home/alix/.local/lib/python3.6/site-packages (from scikit-surprise->surprise) (1.1.0)\r\n",
      "Requirement already satisfied: numpy>=1.11.2 in /home/alix/.local/lib/python3.6/site-packages (from scikit-surprise->surprise) (1.15.2)\r\n",
      "Requirement already satisfied: six>=1.10.0 in /home/alix/.local/lib/python3.6/site-packages (from scikit-surprise->surprise) (1.11.0)\r\n"
     ]
    }
   ],
   "source": [
    "import pandas as pd\n",
    "import numpy as np\n",
    "\n",
    "!pip3 install surprise\n",
    "from surprise import Reader\n",
    "from surprise import Dataset\n",
    "\n",
    "from surprise import SVD, KNNBasic, NMF, SlopeOne, CoClustering #other knn, randoms, not svdpp because were not doing implicit               # importer ici les algo qu'on testera\n",
    "from surprise import model_selection\n",
    "from surprise import dump\n",
    "\n",
    "from sklearn.model_selection import train_test_split"
   ]
  },
  {
   "cell_type": "code",
   "execution_count": 58,
   "metadata": {},
   "outputs": [
    {
     "data": {
      "text/html": [
       "<div>\n",
       "<style scoped>\n",
       "    .dataframe tbody tr th:only-of-type {\n",
       "        vertical-align: middle;\n",
       "    }\n",
       "\n",
       "    .dataframe tbody tr th {\n",
       "        vertical-align: top;\n",
       "    }\n",
       "\n",
       "    .dataframe thead th {\n",
       "        text-align: right;\n",
       "    }\n",
       "</style>\n",
       "<table border=\"1\" class=\"dataframe\">\n",
       "  <thead>\n",
       "    <tr style=\"text-align: right;\">\n",
       "      <th></th>\n",
       "      <th>Id</th>\n",
       "      <th>Prediction</th>\n",
       "      <th>user</th>\n",
       "      <th>item</th>\n",
       "    </tr>\n",
       "  </thead>\n",
       "  <tbody>\n",
       "    <tr>\n",
       "      <td>0</td>\n",
       "      <td>r44_c1</td>\n",
       "      <td>4</td>\n",
       "      <td>44</td>\n",
       "      <td>1</td>\n",
       "    </tr>\n",
       "    <tr>\n",
       "      <td>1</td>\n",
       "      <td>r61_c1</td>\n",
       "      <td>3</td>\n",
       "      <td>61</td>\n",
       "      <td>1</td>\n",
       "    </tr>\n",
       "    <tr>\n",
       "      <td>2</td>\n",
       "      <td>r67_c1</td>\n",
       "      <td>4</td>\n",
       "      <td>67</td>\n",
       "      <td>1</td>\n",
       "    </tr>\n",
       "    <tr>\n",
       "      <td>3</td>\n",
       "      <td>r72_c1</td>\n",
       "      <td>3</td>\n",
       "      <td>72</td>\n",
       "      <td>1</td>\n",
       "    </tr>\n",
       "    <tr>\n",
       "      <td>4</td>\n",
       "      <td>r86_c1</td>\n",
       "      <td>5</td>\n",
       "      <td>86</td>\n",
       "      <td>1</td>\n",
       "    </tr>\n",
       "    <tr>\n",
       "      <td>...</td>\n",
       "      <td>...</td>\n",
       "      <td>...</td>\n",
       "      <td>...</td>\n",
       "      <td>...</td>\n",
       "    </tr>\n",
       "    <tr>\n",
       "      <td>1176947</td>\n",
       "      <td>r9990_c1000</td>\n",
       "      <td>4</td>\n",
       "      <td>9990</td>\n",
       "      <td>1000</td>\n",
       "    </tr>\n",
       "    <tr>\n",
       "      <td>1176948</td>\n",
       "      <td>r9992_c1000</td>\n",
       "      <td>5</td>\n",
       "      <td>9992</td>\n",
       "      <td>1000</td>\n",
       "    </tr>\n",
       "    <tr>\n",
       "      <td>1176949</td>\n",
       "      <td>r9994_c1000</td>\n",
       "      <td>3</td>\n",
       "      <td>9994</td>\n",
       "      <td>1000</td>\n",
       "    </tr>\n",
       "    <tr>\n",
       "      <td>1176950</td>\n",
       "      <td>r9997_c1000</td>\n",
       "      <td>4</td>\n",
       "      <td>9997</td>\n",
       "      <td>1000</td>\n",
       "    </tr>\n",
       "    <tr>\n",
       "      <td>1176951</td>\n",
       "      <td>r10000_c1000</td>\n",
       "      <td>3</td>\n",
       "      <td>10000</td>\n",
       "      <td>1000</td>\n",
       "    </tr>\n",
       "  </tbody>\n",
       "</table>\n",
       "<p>1176952 rows × 4 columns</p>\n",
       "</div>"
      ],
      "text/plain": [
       "                   Id  Prediction   user  item\n",
       "0              r44_c1           4     44     1\n",
       "1              r61_c1           3     61     1\n",
       "2              r67_c1           4     67     1\n",
       "3              r72_c1           3     72     1\n",
       "4              r86_c1           5     86     1\n",
       "...               ...         ...    ...   ...\n",
       "1176947   r9990_c1000           4   9990  1000\n",
       "1176948   r9992_c1000           5   9992  1000\n",
       "1176949   r9994_c1000           3   9994  1000\n",
       "1176950   r9997_c1000           4   9997  1000\n",
       "1176951  r10000_c1000           3  10000  1000\n",
       "\n",
       "[1176952 rows x 4 columns]"
      ]
     },
     "execution_count": 58,
     "metadata": {},
     "output_type": "execute_result"
    }
   ],
   "source": [
    "df = pd.read_csv(\"Datasets/data_train.csv\")\n",
    "\n",
    "df[[\"user\", \"item\"]] = df.Id.str.split(\"_\", expand=True)\n",
    "\n",
    "df.user = df.user.str.replace(\"r\", \"\")\n",
    "df.item = df.item.str.replace(\"c\", \"\")\n",
    "\n",
    "#########\n",
    "df2 = pd.read_csv(\"Datasets/sample_submission.csv\")\n",
    "\n",
    "df2[[\"user\", \"item\"]] = df2.Id.str.split(\"_\", expand=True)\n",
    "\n",
    "df2.user = df2.user.str.replace(\"r\", \"\")\n",
    "df2.item = df2.item.str.replace(\"c\", \"\")\n",
    "prev_size=df.shape[0]\n",
    "df"
   ]
  },
  {
   "cell_type": "markdown",
   "metadata": {},
   "source": [
    "## Data cleaning"
   ]
  },
  {
   "cell_type": "code",
   "execution_count": 59,
   "metadata": {},
   "outputs": [
    {
     "name": "stdout",
     "output_type": "stream",
     "text": [
      "Removed 0 colunms\n"
     ]
    }
   ],
   "source": [
    "#Before re-running this cell, re-run the previous one. \n",
    "#If you are not happy with this cleaning set the two min_... var to 0. \n",
    "#Ok keep it to 0 for the moment -Alix 03/12/19. \n",
    "min_nb_of_users=0\n",
    "min_nb_of_items=0\n",
    "occur_user=df.user.value_counts()\n",
    "df_user_mod = df[~df.user.isin(occur_user[occur_user<=min_nb_of_users].index)]\n",
    "occur_item=df_user_mod.item.value_counts()\n",
    "df=df_user_mod[~df_user_mod.item.isin(occur_item[occur_item<=min_nb_of_items].index)]\n",
    "print(f\"Removed {prev_size-df.shape[0]} colunms\")"
   ]
  },
  {
   "cell_type": "markdown",
   "metadata": {},
   "source": [
    "### Plotting"
   ]
  },
  {
   "cell_type": "code",
   "execution_count": 41,
   "metadata": {},
   "outputs": [
    {
     "data": {
      "text/plain": [
       "<matplotlib.axes._subplots.AxesSubplot at 0x7fcd23ecbfd0>"
      ]
     },
     "execution_count": 41,
     "metadata": {},
     "output_type": "execute_result"
    },
    {
     "data": {
      "image/png": "[encoded data removed]",
      "text/plain": [
       "<Figure size 432x288 with 1 Axes>"
      ]
     },
     "metadata": {
      "needs_background": "light"
     },
     "output_type": "display_data"
    }
   ],
   "source": [
    "df.Prediction.value_counts().plot.bar()"
   ]
  },
  {
   "cell_type": "markdown",
   "metadata": {},
   "source": [
    "## Création des datasets pour train and test"
   ]
  },
  {
   "cell_type": "code",
   "execution_count": 42,
   "metadata": {},
   "outputs": [],
   "source": [
    "df_fifth, test = train_test_split(df, test_size=0.8, random_state=1)\n",
    "df_hundredth,test = train_test_split(df, test_size=0.99, random_state=1)"
   ]
  },
  {
   "cell_type": "code",
   "execution_count": 43,
   "metadata": {},
   "outputs": [],
   "source": [
    "reader = Reader(rating_scale=(1,5)) \n",
    "data = Dataset.load_from_df(df[[\"user\",\"item\",\"Prediction\"]], reader)\n",
    "data_fifth = Dataset.load_from_df(df_fifth[[\"user\",\"item\",\"Prediction\"]], reader)\n",
    "data_hundredth = Dataset.load_from_df(df_hundredth[[\"user\",\"item\",\"Prediction\"]], reader)"
   ]
  },
  {
   "cell_type": "code",
   "execution_count": 44,
   "metadata": {},
   "outputs": [],
   "source": [
    "del df_fifth, df_hundredth #freeing memory"
   ]
  },
  {
   "cell_type": "markdown",
   "metadata": {},
   "source": [
    "## Training de chaque algo"
   ]
  },
  {
   "cell_type": "markdown",
   "metadata": {},
   "source": [
    "### SVD"
   ]
  },
  {
   "cell_type": "code",
   "execution_count": 11,
   "metadata": {},
   "outputs": [],
   "source": [
    "algo = SVD(n_factors=5, n_epochs=5000, lr_all=0.004, reg_all=0.07)\n"
   ]
  },
  {
   "cell_type": "code",
   "execution_count": 16,
   "metadata": {},
   "outputs": [
    {
     "name": "stdout",
     "output_type": "stream",
     "text": [
      "Evaluating RMSE of algorithm SVD on 5 split(s).\n",
      "\n",
      "                  Fold 1  Fold 2  Fold 3  Fold 4  Fold 5  Mean    Std     \n",
      "RMSE (testset)    0.9876  0.9865  0.9895  0.9905  0.9864  0.9881  0.0016  \n",
      "Fit time          3466.70 3371.59 5607.17 3279.37 3339.04 3812.77 899.24  \n",
      "Test time         2.92    2.79    9.81    2.90    3.63    4.41    2.72    \n"
     ]
    },
    {
     "data": {
      "text/plain": [
       "{'test_rmse': array([0.98762085, 0.98654267, 0.98952682, 0.99052904, 0.98638749]),\n",
       " 'fit_time': (3466.6992824077606,\n",
       "  3371.5889732837677,\n",
       "  5607.16778421402,\n",
       "  3279.369137763977,\n",
       "  3339.041560649872),\n",
       " 'test_time': (2.92053484916687,\n",
       "  2.7905020713806152,\n",
       "  9.811296463012695,\n",
       "  2.896577835083008,\n",
       "  3.6344358921051025)}"
      ]
     },
     "execution_count": 16,
     "metadata": {},
     "output_type": "execute_result"
    }
   ],
   "source": [
    "model_selection.cross_validate(algo, data, measures=[\"rmse\"], verbose=True)"
   ]
  },
  {
   "cell_type": "code",
   "execution_count": 13,
   "metadata": {},
   "outputs": [
    {
     "data": {
      "text/plain": [
       "<surprise.prediction_algorithms.matrix_factorization.SVD at 0x7facbfcb0c50>"
      ]
     },
     "execution_count": 13,
     "metadata": {},
     "output_type": "execute_result"
    }
   ],
   "source": [
    "algo.fit(data.build_full_trainset())"
   ]
  },
  {
   "cell_type": "code",
   "execution_count": 14,
   "metadata": {},
   "outputs": [
    {
     "name": "stdout",
     "output_type": "stream",
     "text": [
      "The dump has been saved as file dump/dump_SVD\n"
     ]
    }
   ],
   "source": [
    "dump.dump(\"dump/dump_SVD\", algo=algo, verbose=True)"
   ]
  },
  {
   "cell_type": "markdown",
   "metadata": {},
   "source": [
    "# param_grid = {\n",
    "    'n_factors' : [5, 10],\n",
    "    'n_epochs': [20],\n",
    "    'lr_all': [0.002, 0.005],\n",
    "    'reg_all': [0.02, 0.03]\n",
    "} \n",
    "cv=5\n",
    "algorithm = SVD\n",
    "\n",
    "gs = model_selection.GridSearchCV(algorithm, param_grid, measures=['rmse'], cv=cv, n_jobs=-5, joblib_verbose=10)  #enlever mae car non utilisé dans le projet pour sauver du temps\n",
    "gs.fit(data) #checker quelle data est utilisée a chaque algo\n",
    "print(gs.best_params)\n",
    "print(gs.best_score)\n",
    "algo = gs.best_estimator[\"rmse\"]\n",
    "algo.fit(data.build_full_trainset())\n",
    "dump.dump(\"dump/SVDfitted_dump\", algo=algo, verbose=1)"
   ]
  },
  {
   "cell_type": "markdown",
   "metadata": {},
   "source": [
    "### KNN"
   ]
  },
  {
   "cell_type": "code",
   "execution_count": 8,
   "metadata": {},
   "outputs": [
    {
     "name": "stderr",
     "output_type": "stream",
     "text": [
      "[Parallel(n_jobs=-7)]: Using backend LokyBackend with 2 concurrent workers.\n",
      "[Parallel(n_jobs=-7)]: Done   1 tasks      | elapsed:  5.0min\n",
      "[Parallel(n_jobs=-7)]: Done   4 tasks      | elapsed:  9.8min\n",
      "[Parallel(n_jobs=-7)]: Done   9 tasks      | elapsed: 29.5min\n"
     ]
    },
    {
     "ename": "KeyboardInterrupt",
     "evalue": "",
     "output_type": "error",
     "traceback": [
      "\u001b[0;31m---------------------------------------------------------------------------\u001b[0m",
      "\u001b[0;31mKeyboardInterrupt\u001b[0m                         Traceback (most recent call last)",
      "\u001b[0;32m<ipython-input-8-95c899beec11>\u001b[0m in \u001b[0;36m<module>\u001b[0;34m\u001b[0m\n\u001b[1;32m      7\u001b[0m \u001b[0;34m\u001b[0m\u001b[0m\n\u001b[1;32m      8\u001b[0m \u001b[0mgs\u001b[0m \u001b[0;34m=\u001b[0m \u001b[0mmodel_selection\u001b[0m\u001b[0;34m.\u001b[0m\u001b[0mGridSearchCV\u001b[0m\u001b[0;34m(\u001b[0m\u001b[0malgorithm\u001b[0m\u001b[0;34m,\u001b[0m \u001b[0mparam_grid\u001b[0m\u001b[0;34m,\u001b[0m \u001b[0mmeasures\u001b[0m\u001b[0;34m=\u001b[0m\u001b[0;34m[\u001b[0m\u001b[0;34m'rmse'\u001b[0m\u001b[0;34m]\u001b[0m\u001b[0;34m,\u001b[0m \u001b[0mcv\u001b[0m\u001b[0;34m=\u001b[0m\u001b[0mcv\u001b[0m\u001b[0;34m,\u001b[0m \u001b[0mn_jobs\u001b[0m\u001b[0;34m=\u001b[0m\u001b[0;34m-\u001b[0m\u001b[0;36m7\u001b[0m\u001b[0;34m,\u001b[0m \u001b[0mjoblib_verbose\u001b[0m\u001b[0;34m=\u001b[0m\u001b[0;36m10\u001b[0m\u001b[0;34m)\u001b[0m  \u001b[0;31m#enlever mae car non utilisé dans le projet pour sauver du temps\u001b[0m\u001b[0;34m\u001b[0m\u001b[0;34m\u001b[0m\u001b[0m\n\u001b[0;32m----> 9\u001b[0;31m \u001b[0mgs\u001b[0m\u001b[0;34m.\u001b[0m\u001b[0mfit\u001b[0m\u001b[0;34m(\u001b[0m\u001b[0mdata\u001b[0m\u001b[0;34m)\u001b[0m\u001b[0;34m\u001b[0m\u001b[0;34m\u001b[0m\u001b[0m\n\u001b[0m\u001b[1;32m     10\u001b[0m \u001b[0mprint\u001b[0m\u001b[0;34m(\u001b[0m\u001b[0mgs\u001b[0m\u001b[0;34m.\u001b[0m\u001b[0mbest_params\u001b[0m\u001b[0;34m)\u001b[0m\u001b[0;34m\u001b[0m\u001b[0;34m\u001b[0m\u001b[0m\n\u001b[1;32m     11\u001b[0m \u001b[0mprint\u001b[0m\u001b[0;34m(\u001b[0m\u001b[0mgs\u001b[0m\u001b[0;34m.\u001b[0m\u001b[0mbest_score\u001b[0m\u001b[0;34m)\u001b[0m\u001b[0;34m\u001b[0m\u001b[0;34m\u001b[0m\u001b[0m\n",
      "\u001b[0;32m~/.local/lib/python3.7/site-packages/surprise/model_selection/search.py\u001b[0m in \u001b[0;36mfit\u001b[0;34m(self, data)\u001b[0m\n\u001b[1;32m     88\u001b[0m         out = Parallel(n_jobs=self.n_jobs,\n\u001b[1;32m     89\u001b[0m                        \u001b[0mpre_dispatch\u001b[0m\u001b[0;34m=\u001b[0m\u001b[0mself\u001b[0m\u001b[0;34m.\u001b[0m\u001b[0mpre_dispatch\u001b[0m\u001b[0;34m,\u001b[0m\u001b[0;34m\u001b[0m\u001b[0;34m\u001b[0m\u001b[0m\n\u001b[0;32m---> 90\u001b[0;31m                        verbose=self.joblib_verbose)(delayed_list)\n\u001b[0m\u001b[1;32m     91\u001b[0m \u001b[0;34m\u001b[0m\u001b[0m\n\u001b[1;32m     92\u001b[0m         (test_measures_dicts,\n",
      "\u001b[0;32m~/.local/lib/python3.7/site-packages/joblib/parallel.py\u001b[0m in \u001b[0;36m__call__\u001b[0;34m(self, iterable)\u001b[0m\n\u001b[1;32m   1014\u001b[0m \u001b[0;34m\u001b[0m\u001b[0m\n\u001b[1;32m   1015\u001b[0m             \u001b[0;32mwith\u001b[0m \u001b[0mself\u001b[0m\u001b[0;34m.\u001b[0m\u001b[0m_backend\u001b[0m\u001b[0;34m.\u001b[0m\u001b[0mretrieval_context\u001b[0m\u001b[0;34m(\u001b[0m\u001b[0;34m)\u001b[0m\u001b[0;34m:\u001b[0m\u001b[0;34m\u001b[0m\u001b[0;34m\u001b[0m\u001b[0m\n\u001b[0;32m-> 1016\u001b[0;31m                 \u001b[0mself\u001b[0m\u001b[0;34m.\u001b[0m\u001b[0mretrieve\u001b[0m\u001b[0;34m(\u001b[0m\u001b[0;34m)\u001b[0m\u001b[0;34m\u001b[0m\u001b[0;34m\u001b[0m\u001b[0m\n\u001b[0m\u001b[1;32m   1017\u001b[0m             \u001b[0;31m# Make sure that we get a last message telling us we are done\u001b[0m\u001b[0;34m\u001b[0m\u001b[0;34m\u001b[0m\u001b[0;34m\u001b[0m\u001b[0m\n\u001b[1;32m   1018\u001b[0m             \u001b[0melapsed_time\u001b[0m \u001b[0;34m=\u001b[0m \u001b[0mtime\u001b[0m\u001b[0;34m.\u001b[0m\u001b[0mtime\u001b[0m\u001b[0;34m(\u001b[0m\u001b[0;34m)\u001b[0m \u001b[0;34m-\u001b[0m \u001b[0mself\u001b[0m\u001b[0;34m.\u001b[0m\u001b[0m_start_time\u001b[0m\u001b[0;34m\u001b[0m\u001b[0;34m\u001b[0m\u001b[0m\n",
      "\u001b[0;32m~/.local/lib/python3.7/site-packages/joblib/parallel.py\u001b[0m in \u001b[0;36mretrieve\u001b[0;34m(self)\u001b[0m\n\u001b[1;32m    906\u001b[0m             \u001b[0;32mtry\u001b[0m\u001b[0;34m:\u001b[0m\u001b[0;34m\u001b[0m\u001b[0;34m\u001b[0m\u001b[0m\n\u001b[1;32m    907\u001b[0m                 \u001b[0;32mif\u001b[0m \u001b[0mgetattr\u001b[0m\u001b[0;34m(\u001b[0m\u001b[0mself\u001b[0m\u001b[0;34m.\u001b[0m\u001b[0m_backend\u001b[0m\u001b[0;34m,\u001b[0m \u001b[0;34m'supports_timeout'\u001b[0m\u001b[0;34m,\u001b[0m \u001b[0;32mFalse\u001b[0m\u001b[0;34m)\u001b[0m\u001b[0;34m:\u001b[0m\u001b[0;34m\u001b[0m\u001b[0;34m\u001b[0m\u001b[0m\n\u001b[0;32m--> 908\u001b[0;31m                     \u001b[0mself\u001b[0m\u001b[0;34m.\u001b[0m\u001b[0m_output\u001b[0m\u001b[0;34m.\u001b[0m\u001b[0mextend\u001b[0m\u001b[0;34m(\u001b[0m\u001b[0mjob\u001b[0m\u001b[0;34m.\u001b[0m\u001b[0mget\u001b[0m\u001b[0;34m(\u001b[0m\u001b[0mtimeout\u001b[0m\u001b[0;34m=\u001b[0m\u001b[0mself\u001b[0m\u001b[0;34m.\u001b[0m\u001b[0mtimeout\u001b[0m\u001b[0;34m)\u001b[0m\u001b[0;34m)\u001b[0m\u001b[0;34m\u001b[0m\u001b[0;34m\u001b[0m\u001b[0m\n\u001b[0m\u001b[1;32m    909\u001b[0m                 \u001b[0;32melse\u001b[0m\u001b[0;34m:\u001b[0m\u001b[0;34m\u001b[0m\u001b[0;34m\u001b[0m\u001b[0m\n\u001b[1;32m    910\u001b[0m                     \u001b[0mself\u001b[0m\u001b[0;34m.\u001b[0m\u001b[0m_output\u001b[0m\u001b[0;34m.\u001b[0m\u001b[0mextend\u001b[0m\u001b[0;34m(\u001b[0m\u001b[0mjob\u001b[0m\u001b[0;34m.\u001b[0m\u001b[0mget\u001b[0m\u001b[0;34m(\u001b[0m\u001b[0;34m)\u001b[0m\u001b[0;34m)\u001b[0m\u001b[0;34m\u001b[0m\u001b[0;34m\u001b[0m\u001b[0m\n",
      "\u001b[0;32m~/.local/lib/python3.7/site-packages/joblib/_parallel_backends.py\u001b[0m in \u001b[0;36mwrap_future_result\u001b[0;34m(future, timeout)\u001b[0m\n\u001b[1;32m    552\u001b[0m         AsyncResults.get from multiprocessing.\"\"\"\n\u001b[1;32m    553\u001b[0m         \u001b[0;32mtry\u001b[0m\u001b[0;34m:\u001b[0m\u001b[0;34m\u001b[0m\u001b[0;34m\u001b[0m\u001b[0m\n\u001b[0;32m--> 554\u001b[0;31m             \u001b[0;32mreturn\u001b[0m \u001b[0mfuture\u001b[0m\u001b[0;34m.\u001b[0m\u001b[0mresult\u001b[0m\u001b[0;34m(\u001b[0m\u001b[0mtimeout\u001b[0m\u001b[0;34m=\u001b[0m\u001b[0mtimeout\u001b[0m\u001b[0;34m)\u001b[0m\u001b[0;34m\u001b[0m\u001b[0;34m\u001b[0m\u001b[0m\n\u001b[0m\u001b[1;32m    555\u001b[0m         \u001b[0;32mexcept\u001b[0m \u001b[0mLokyTimeoutError\u001b[0m\u001b[0;34m:\u001b[0m\u001b[0;34m\u001b[0m\u001b[0;34m\u001b[0m\u001b[0m\n\u001b[1;32m    556\u001b[0m             \u001b[0;32mraise\u001b[0m \u001b[0mTimeoutError\u001b[0m\u001b[0;34m(\u001b[0m\u001b[0;34m)\u001b[0m\u001b[0;34m\u001b[0m\u001b[0;34m\u001b[0m\u001b[0m\n",
      "\u001b[0;32m/usr/lib/python3.7/concurrent/futures/_base.py\u001b[0m in \u001b[0;36mresult\u001b[0;34m(self, timeout)\u001b[0m\n\u001b[1;32m    428\u001b[0m                 \u001b[0;32mreturn\u001b[0m \u001b[0mself\u001b[0m\u001b[0;34m.\u001b[0m\u001b[0m__get_result\u001b[0m\u001b[0;34m(\u001b[0m\u001b[0;34m)\u001b[0m\u001b[0;34m\u001b[0m\u001b[0;34m\u001b[0m\u001b[0m\n\u001b[1;32m    429\u001b[0m \u001b[0;34m\u001b[0m\u001b[0m\n\u001b[0;32m--> 430\u001b[0;31m             \u001b[0mself\u001b[0m\u001b[0;34m.\u001b[0m\u001b[0m_condition\u001b[0m\u001b[0;34m.\u001b[0m\u001b[0mwait\u001b[0m\u001b[0;34m(\u001b[0m\u001b[0mtimeout\u001b[0m\u001b[0;34m)\u001b[0m\u001b[0;34m\u001b[0m\u001b[0;34m\u001b[0m\u001b[0m\n\u001b[0m\u001b[1;32m    431\u001b[0m \u001b[0;34m\u001b[0m\u001b[0m\n\u001b[1;32m    432\u001b[0m             \u001b[0;32mif\u001b[0m \u001b[0mself\u001b[0m\u001b[0;34m.\u001b[0m\u001b[0m_state\u001b[0m \u001b[0;32min\u001b[0m \u001b[0;34m[\u001b[0m\u001b[0mCANCELLED\u001b[0m\u001b[0;34m,\u001b[0m \u001b[0mCANCELLED_AND_NOTIFIED\u001b[0m\u001b[0;34m]\u001b[0m\u001b[0;34m:\u001b[0m\u001b[0;34m\u001b[0m\u001b[0;34m\u001b[0m\u001b[0m\n",
      "\u001b[0;32m/usr/lib/python3.7/threading.py\u001b[0m in \u001b[0;36mwait\u001b[0;34m(self, timeout)\u001b[0m\n\u001b[1;32m    294\u001b[0m         \u001b[0;32mtry\u001b[0m\u001b[0;34m:\u001b[0m    \u001b[0;31m# restore state no matter what (e.g., KeyboardInterrupt)\u001b[0m\u001b[0;34m\u001b[0m\u001b[0;34m\u001b[0m\u001b[0m\n\u001b[1;32m    295\u001b[0m             \u001b[0;32mif\u001b[0m \u001b[0mtimeout\u001b[0m \u001b[0;32mis\u001b[0m \u001b[0;32mNone\u001b[0m\u001b[0;34m:\u001b[0m\u001b[0;34m\u001b[0m\u001b[0;34m\u001b[0m\u001b[0m\n\u001b[0;32m--> 296\u001b[0;31m                 \u001b[0mwaiter\u001b[0m\u001b[0;34m.\u001b[0m\u001b[0macquire\u001b[0m\u001b[0;34m(\u001b[0m\u001b[0;34m)\u001b[0m\u001b[0;34m\u001b[0m\u001b[0;34m\u001b[0m\u001b[0m\n\u001b[0m\u001b[1;32m    297\u001b[0m                 \u001b[0mgotit\u001b[0m \u001b[0;34m=\u001b[0m \u001b[0;32mTrue\u001b[0m\u001b[0;34m\u001b[0m\u001b[0;34m\u001b[0m\u001b[0m\n\u001b[1;32m    298\u001b[0m             \u001b[0;32melse\u001b[0m\u001b[0;34m:\u001b[0m\u001b[0;34m\u001b[0m\u001b[0;34m\u001b[0m\u001b[0m\n",
      "\u001b[0;31mKeyboardInterrupt\u001b[0m: "
     ]
    }
   ],
   "source": [
    "param_grid = {\n",
    "    'k' : [10, 40, 100],\n",
    "    'min_k': [1, 3, 5]\n",
    "} \n",
    "cv=5\n",
    "algorithm = KNNBasic\n",
    "\n",
    "gs = model_selection.GridSearchCV(algorithm, param_grid, measures=['rmse'], cv=cv, n_jobs=-7, joblib_verbose=10)  #enlever mae car non utilisé dans le projet pour sauver du temps\n",
    "gs.fit(data)\n",
    "print(gs.best_params)\n",
    "print(gs.best_score)\n",
    "algo = gs.best_estimator[\"rmse\"]\n",
    "algo.fit(data.build_full_trainset())\n",
    "dump.dump(\"dump/KNN_basic_fitted_dump\", algo=algo, verbose=1)"
   ]
  },
  {
   "cell_type": "markdown",
   "metadata": {},
   "source": [
    "### NFM"
   ]
  },
  {
   "cell_type": "code",
   "execution_count": null,
   "metadata": {},
   "outputs": [],
   "source": [
    "param_grid = {\n",
    "    'n_factors' : [15, 50],\n",
    "    'n_epochs': [10, 50]\n",
    "} \n",
    "cv=5\n",
    "algorithm = NMF\n",
    "\n",
    "gs = model_selection.GridSearchCV(algorithm, param_grid, measures=['rmse'], cv=cv, n_jobs=-5, joblib_verbose=10)  #enlever mae car non utilisé dans le projet pour sauver du temps\n",
    "gs.fit(data)\n",
    "print(gs.best_params)\n",
    "print(gs.best_score)\n",
    "algo = gs.best_estimator[\"rmse\"]\n",
    "algo.fit(data.build_full_trainset())\n",
    "dump.dump(\"dump/NMFfitted_dump\", algo=algo, verbose=1)"
   ]
  },
  {
   "cell_type": "markdown",
   "metadata": {},
   "source": [
    "### SlopeOne"
   ]
  },
  {
   "cell_type": "code",
   "execution_count": 52,
   "metadata": {},
   "outputs": [
    {
     "ename": "FileNotFoundError",
     "evalue": "[Errno 2] No such file or directory: 'dump/SlopeOne_fitted_dump'",
     "output_type": "error",
     "traceback": [
      "\u001b[0;31m---------------------------------------------------------------------------\u001b[0m",
      "\u001b[0;31mFileNotFoundError\u001b[0m                         Traceback (most recent call last)",
      "\u001b[0;32m<ipython-input-52-cb15dfb08f5f>\u001b[0m in \u001b[0;36m<module>\u001b[0;34m\u001b[0m\n\u001b[1;32m      2\u001b[0m \u001b[0;31m#model_selection.cross_validate(data,algo, measures=['rmse'], cv=5, verbose=True)\u001b[0m\u001b[0;34m\u001b[0m\u001b[0;34m\u001b[0m\u001b[0;34m\u001b[0m\u001b[0m\n\u001b[1;32m      3\u001b[0m \u001b[0malgo\u001b[0m\u001b[0;34m.\u001b[0m\u001b[0mfit\u001b[0m\u001b[0;34m(\u001b[0m\u001b[0mdata\u001b[0m\u001b[0;34m.\u001b[0m\u001b[0mbuild_full_trainset\u001b[0m\u001b[0;34m(\u001b[0m\u001b[0;34m)\u001b[0m\u001b[0;34m)\u001b[0m\u001b[0;34m\u001b[0m\u001b[0;34m\u001b[0m\u001b[0m\n\u001b[0;32m----> 4\u001b[0;31m \u001b[0mdump\u001b[0m\u001b[0;34m.\u001b[0m\u001b[0mdump\u001b[0m\u001b[0;34m(\u001b[0m\u001b[0;34m\"dump/SlopeOne_fitted_dump\"\u001b[0m\u001b[0;34m,\u001b[0m \u001b[0malgo\u001b[0m\u001b[0;34m=\u001b[0m\u001b[0malgo\u001b[0m\u001b[0;34m,\u001b[0m \u001b[0mverbose\u001b[0m\u001b[0;34m=\u001b[0m\u001b[0;36m1\u001b[0m\u001b[0;34m)\u001b[0m\u001b[0;34m\u001b[0m\u001b[0;34m\u001b[0m\u001b[0m\n\u001b[0m",
      "\u001b[0;32m/usr/local/lib/python3.6/dist-packages/surprise/dump.py\u001b[0m in \u001b[0;36mdump\u001b[0;34m(file_name, predictions, algo, verbose)\u001b[0m\n\u001b[1;32m     28\u001b[0m                 \u001b[0;34m'algo'\u001b[0m\u001b[0;34m:\u001b[0m \u001b[0malgo\u001b[0m\u001b[0;34m\u001b[0m\u001b[0;34m\u001b[0m\u001b[0m\n\u001b[1;32m     29\u001b[0m                 }\n\u001b[0;32m---> 30\u001b[0;31m     pickle.dump(dump_obj, open(file_name, 'wb'),\n\u001b[0m\u001b[1;32m     31\u001b[0m                 protocol=pickle.HIGHEST_PROTOCOL)\n\u001b[1;32m     32\u001b[0m \u001b[0;34m\u001b[0m\u001b[0m\n",
      "\u001b[0;31mFileNotFoundError\u001b[0m: [Errno 2] No such file or directory: 'dump/SlopeOne_fitted_dump'"
     ]
    }
   ],
   "source": [
    "algo = SlopeOne()\n",
    "algo.fit(data.build_full_trainset())\n",
    "dump.dump(\"dump/SlopeOne_fitted_dump\", algo=algo, verbose=1)"
   ]
  },
  {
   "cell_type": "markdown",
   "metadata": {},
   "source": [
    "### CoClustering"
   ]
  },
  {
   "cell_type": "code",
   "execution_count": null,
   "metadata": {},
   "outputs": [],
   "source": [
    "param_grid = {\n",
    "    'n_cltr_u' : [3, 5],\n",
    "    'n_cltr_i' : [3, 5], \n",
    "    'n_epochs': [50, 100]\n",
    "} \n",
    "cv=5\n",
    "algorithm = CoClustering\n",
    "\n",
    "gs = model_selection.GridSearchCV(algorithm, param_grid, measures=['rmse'], cv=cv, n_jobs=-5, joblib_verbose=10)  #enlever mae car non utilisé dans le projet pour sauver du temps\n",
    "gs.fit(data)\n",
    "print(gs.best_params)\n",
    "print(gs.best_score)\n",
    "algo = gs.best_estimator[\"rmse\"]\n",
    "algo.fit(data.build_full_trainset())\n",
    "dump.dump(\"dump/CoClustering_fitted_dump\", algo=algo, verbose=1)"
   ]
  },
  {
   "cell_type": "markdown",
   "metadata": {},
   "source": [
    "## Loading des pickles"
   ]
  },
  {
   "cell_type": "code",
   "execution_count": null,
   "metadata": {},
   "outputs": [],
   "source": [
    "del algo, gs"
   ]
  },
  {
   "cell_type": "code",
   "execution_count": null,
   "metadata": {},
   "outputs": [],
   "source": [
    "array_SVD = np.ones((df2.shape[0],1))\n",
    "array_KNN = np.ones((df2.shape[0],1))\n",
    "array_NMF = np.ones((df2.shape[0],1))\n",
    "array_SlopeOne = np.ones((df2.shape[0],1))\n",
    "array_CoClustering = np.ones((df2.shape[0],1))"
   ]
  },
  {
   "cell_type": "code",
   "execution_count": null,
   "metadata": {},
   "outputs": [],
   "source": [
    "_, algo_svd = dump.load(\"dump/SVDfitted_dump\")\n",
    "_, algo_knn = dump.load(\"dump/KNN_basic_fitted_dump\")\n",
    "_, algo_nmf = dump.load(\"dump/NMFfitted_dump\")\n",
    "_, algo_slopeone = dump.load(\"dump/SlopeOne_fitted_dump\")\n",
    "_, algo_coclustering = dump.load(\"dump/CoClustering_fitted_dump\")"
   ]
  },
  {
   "cell_type": "markdown",
   "metadata": {},
   "source": [
    "## Estimations"
   ]
  },
  {
   "cell_type": "code",
   "execution_count": 57,
   "metadata": {
    "scrolled": false
   },
   "outputs": [
    {
     "name": "stdout",
     "output_type": "stream",
     "text": [
      "0\n",
      "bug\n",
      "bug\n",
      "bug\n",
      "bug\n",
      "bug\n",
      "bug\n",
      "bug\n",
      "bug\n",
      "bug\n",
      "bug\n",
      "bug\n",
      "bug\n",
      "bug\n",
      "bug\n",
      "bug\n",
      "bug\n",
      "bug\n",
      "bug\n",
      "bug\n",
      "bug\n",
      "bug\n",
      "bug\n",
      "bug\n",
      "bug\n",
      "bug\n",
      "bug\n",
      "bug\n",
      "bug\n",
      "bug\n",
      "bug\n",
      "bug\n",
      "bug\n",
      "bug\n",
      "bug\n",
      "bug\n",
      "bug\n",
      "bug\n",
      "bug\n",
      "bug\n",
      "bug\n",
      "bug\n",
      "bug\n",
      "bug\n",
      "bug\n",
      "bug\n",
      "bug\n",
      "bug\n",
      "bug\n",
      "bug\n",
      "bug\n",
      "bug\n",
      "bug\n",
      "bug\n",
      "bug\n",
      "bug\n",
      "bug\n",
      "bug\n",
      "bug\n",
      "bug\n",
      "bug\n",
      "bug\n",
      "bug\n",
      "bug\n",
      "bug\n",
      "bug\n",
      "bug\n",
      "bug\n",
      "bug\n",
      "bug\n",
      "bug\n",
      "bug\n",
      "bug\n",
      "bug\n",
      "bug\n",
      "bug\n",
      "bug\n",
      "bug\n",
      "bug\n",
      "bug\n",
      "bug\n",
      "bug\n",
      "bug\n",
      "bug\n",
      "bug\n",
      "bug\n",
      "bug\n",
      "bug\n",
      "bug\n",
      "bug\n",
      "bug\n",
      "bug\n",
      "bug\n",
      "bug\n",
      "bug\n",
      "bug\n",
      "bug\n",
      "bug\n",
      "bug\n",
      "bug\n",
      "bug\n",
      "bug\n",
      "bug\n",
      "bug\n",
      "bug\n",
      "bug\n",
      "bug\n",
      "bug\n",
      "bug\n",
      "bug\n",
      "bug\n",
      "bug\n",
      "bug\n",
      "bug\n",
      "bug\n",
      "bug\n",
      "bug\n",
      "bug\n",
      "bug\n",
      "bug\n",
      "bug\n",
      "bug\n",
      "bug\n",
      "bug\n",
      "bug\n",
      "bug\n",
      "bug\n",
      "bug\n",
      "bug\n",
      "bug\n",
      "bug\n",
      "bug\n",
      "bug\n",
      "bug\n",
      "bug\n",
      "bug\n",
      "bug\n",
      "bug\n",
      "bug\n",
      "bug\n",
      "bug\n",
      "bug\n",
      "bug\n",
      "bug\n",
      "bug\n",
      "bug\n",
      "bug\n",
      "bug\n",
      "bug\n",
      "bug\n",
      "bug\n",
      "bug\n",
      "bug\n",
      "bug\n",
      "bug\n",
      "bug\n",
      "bug\n",
      "bug\n",
      "bug\n",
      "bug\n",
      "bug\n",
      "bug\n",
      "bug\n",
      "bug\n",
      "bug\n",
      "bug\n",
      "bug\n",
      "bug\n",
      "bug\n",
      "bug\n",
      "bug\n",
      "bug\n",
      "bug\n",
      "bug\n",
      "bug\n",
      "bug\n",
      "bug\n",
      "bug\n",
      "bug\n",
      "bug\n",
      "bug\n",
      "bug\n",
      "bug\n",
      "bug\n",
      "bug\n",
      "bug\n",
      "bug\n",
      "bug\n",
      "bug\n",
      "bug\n",
      "bug\n",
      "bug\n",
      "bug\n",
      "bug\n",
      "bug\n",
      "bug\n",
      "bug\n",
      "bug\n",
      "bug\n",
      "bug\n",
      "bug\n",
      "bug\n",
      "bug\n",
      "bug\n",
      "bug\n",
      "bug\n",
      "bug\n",
      "bug\n",
      "bug\n",
      "bug\n",
      "bug\n",
      "bug\n",
      "bug\n",
      "bug\n",
      "bug\n",
      "bug\n",
      "bug\n",
      "bug\n",
      "bug\n",
      "bug\n",
      "bug\n",
      "bug\n",
      "bug\n",
      "bug\n",
      "bug\n",
      "bug\n",
      "bug\n",
      "bug\n",
      "bug\n",
      "bug\n",
      "bug\n",
      "bug\n",
      "bug\n",
      "bug\n",
      "bug\n",
      "bug\n",
      "bug\n",
      "bug\n",
      "bug\n",
      "bug\n",
      "bug\n",
      "bug\n",
      "bug\n",
      "bug\n",
      "bug\n",
      "bug\n",
      "bug\n",
      "bug\n",
      "bug\n",
      "bug\n",
      "bug\n",
      "bug\n",
      "bug\n",
      "bug\n",
      "bug\n",
      "bug\n",
      "bug\n",
      "bug\n",
      "bug\n",
      "bug\n",
      "bug\n",
      "bug\n",
      "bug\n",
      "bug\n",
      "bug\n",
      "bug\n",
      "bug\n",
      "bug\n",
      "bug\n",
      "bug\n",
      "bug\n",
      "bug\n",
      "bug\n",
      "bug\n",
      "bug\n",
      "bug\n",
      "bug\n",
      "bug\n",
      "bug\n",
      "bug\n",
      "bug\n",
      "bug\n",
      "bug\n",
      "bug\n",
      "bug\n",
      "bug\n",
      "bug\n",
      "bug\n",
      "bug\n",
      "bug\n",
      "bug\n",
      "bug\n",
      "bug\n",
      "bug\n",
      "bug\n",
      "bug\n",
      "bug\n",
      "bug\n",
      "bug\n",
      "bug\n",
      "bug\n",
      "bug\n",
      "bug\n",
      "bug\n",
      "bug\n",
      "bug\n",
      "bug\n",
      "bug\n",
      "bug\n",
      "bug\n",
      "bug\n",
      "bug\n",
      "bug\n",
      "bug\n",
      "bug\n",
      "bug\n",
      "bug\n",
      "bug\n",
      "bug\n",
      "bug\n",
      "bug\n",
      "bug\n",
      "bug\n",
      "bug\n",
      "bug\n",
      "bug\n",
      "bug\n",
      "bug\n",
      "bug\n",
      "bug\n",
      "bug\n",
      "bug\n",
      "bug\n",
      "bug\n",
      "bug\n",
      "bug\n",
      "bug\n",
      "bug\n",
      "bug\n",
      "bug\n",
      "bug\n",
      "bug\n",
      "bug\n",
      "bug\n",
      "bug\n",
      "bug\n",
      "bug\n",
      "bug\n"
     ]
    },
    {
     "ename": "KeyboardInterrupt",
     "evalue": "",
     "output_type": "error",
     "traceback": [
      "\u001b[0;31m---------------------------------------------------------------------------\u001b[0m",
      "\u001b[0;31mKeyboardInterrupt\u001b[0m                         Traceback (most recent call last)",
      "\u001b[0;32m<ipython-input-57-ef584457913b>\u001b[0m in \u001b[0;36m<module>\u001b[0;34m\u001b[0m\n\u001b[1;32m     12\u001b[0m     \u001b[0;32mif\u001b[0m \u001b[0mi\u001b[0m\u001b[0;34m[\u001b[0m\u001b[0;36m0\u001b[0m\u001b[0;34m]\u001b[0m\u001b[0;34m%\u001b[0m\u001b[0;36m100000\u001b[0m\u001b[0;34m==\u001b[0m\u001b[0;36m0\u001b[0m\u001b[0;34m:\u001b[0m\u001b[0;34m\u001b[0m\u001b[0;34m\u001b[0m\u001b[0m\n\u001b[1;32m     13\u001b[0m         \u001b[0mprint\u001b[0m\u001b[0;34m(\u001b[0m\u001b[0mi\u001b[0m\u001b[0;34m[\u001b[0m\u001b[0;36m0\u001b[0m\u001b[0;34m]\u001b[0m\u001b[0;34m)\u001b[0m\u001b[0;34m\u001b[0m\u001b[0;34m\u001b[0m\u001b[0m\n\u001b[0;32m---> 14\u001b[0;31m     \u001b[0;32mif\u001b[0m \u001b[0;34m(\u001b[0m\u001b[0mi\u001b[0m\u001b[0;34m[\u001b[0m\u001b[0;36m1\u001b[0m\u001b[0;34m]\u001b[0m\u001b[0;34m[\u001b[0m\u001b[0;34m\"user\"\u001b[0m\u001b[0;34m]\u001b[0m \u001b[0;32min\u001b[0m \u001b[0mvalid_users\u001b[0m \u001b[0;32mand\u001b[0m \u001b[0mi\u001b[0m\u001b[0;34m[\u001b[0m\u001b[0;36m1\u001b[0m\u001b[0;34m]\u001b[0m\u001b[0;34m[\u001b[0m\u001b[0;34m\"item\"\u001b[0m\u001b[0;34m]\u001b[0m \u001b[0;32min\u001b[0m \u001b[0mvalid_items\u001b[0m\u001b[0;34m)\u001b[0m\u001b[0;34m:\u001b[0m\u001b[0;34m\u001b[0m\u001b[0;34m\u001b[0m\u001b[0m\n\u001b[0m\u001b[1;32m     15\u001b[0m         \u001b[0;31m#array_SVD[i[0]] = algo_svd.estimate(int(i[1][2])-1, int(i[1][3])-1)\u001b[0m\u001b[0;34m\u001b[0m\u001b[0;34m\u001b[0m\u001b[0;34m\u001b[0m\u001b[0m\n\u001b[1;32m     16\u001b[0m         \u001b[0;31m#array_KNN[i[0]]= algo_knn.estimate(int(i[1][2])-1, int(i[1][3])-1)[0]\u001b[0m\u001b[0;34m\u001b[0m\u001b[0;34m\u001b[0m\u001b[0;34m\u001b[0m\u001b[0m\n",
      "\u001b[0;31mKeyboardInterrupt\u001b[0m: "
     ]
    }
   ],
   "source": [
    "valid_items=df.item.unique()\n",
    "valid_users=df.user.unique()\n",
    "global_mean=df[\"Prediction\"].mean()\n",
    "count_bad_users=0\n",
    "count_bad_items=0\n",
    "count_bad_both=0\n",
    "global_mean=df[\"Prediction\"].mean()\n",
    "\n",
    "for i in df2.iterrows():\n",
    "    if i[0]%100000==0:\n",
    "        print(i[0])\n",
    "    if (i[1][\"user\"] in valid_users and i[1][\"item\"] in valid_items):\n",
    "        array_SVD[i[0]] = algo_svd.estimate(int(i[1][2])-1, int(i[1][3])-1)\n",
    "        array_KNN[i[0]]= algo_knn.estimate(int(i[1][2])-1, int(i[1][3])-1)[0]\n",
    "        array_NMF[i[0]] = algo_nmf.estimate(int(i[1][2])-1, int(i[1][3])-1)\n",
    "        array_SlopeOne[i[0]]=algo_SlopeOne.estimate(int(i[1][2])-1, int(i[1][3])-1)\n",
    "        array_CoClustering[i[0]] = algo_coclustering.estimate(int(i[1][2])-1, int(i[1][3])-1)\n",
    "    elif (i[1][\"user\"] in valid_users):\n",
    "        user_mean=df[df[\"user\"]==i[1][\"user\"]].mean()\n",
    "        array_SVD[i[0]] = user_mean\n",
    "        array_KNN[i[0]]= user_mean\n",
    "        array_NMF[i[0]] = user_mean\n",
    "        array_SlopeOne[i[0]]=user_mean\n",
    "        array_CoClustering[i[0]] = user_mean\n",
    "        count_bad_users+=1\n",
    "    elif (i[1][\"item\"] in valid_items):\n",
    "        item_mean=df[df[\"item\"]==i[1][\"item\"]].mean()\n",
    "        array_SVD[i[0]] = item_mean\n",
    "        array_KNN[i[0]]= item_mean\n",
    "        array_NMF[i[0]] = item_mean\n",
    "        array_SlopeOne[i[0]]= item_mean\n",
    "        array_CoClustering[i[0]] = item_mean\n",
    "        count_bad_items+=1\n",
    "    else:\n",
    "        array_SVD[i[0]] = global_mean\n",
    "        array_KNN[i[0]]= global_mean\n",
    "        array_NMF[i[0]] = global_mean\n",
    "        array_SlopeOne[i[0]]= global_mean\n",
    "        array_CoClustering[i[0]] = global_mean\n",
    "        count_bad_both+=1\n",
    "print(f\"Done with {count_bad_users} bad users, {count_bad_items} bad items, {count_bad_both} bad both.\")"
   ]
  },
  {
   "cell_type": "markdown",
   "metadata": {},
   "source": [
    "### Traitement des valeurs non estimées"
   ]
  },
  {
   "cell_type": "code",
   "execution_count": null,
   "metadata": {},
   "outputs": [],
   "source": [
    "'''Here we treat the value of -1000'''\n",
    "'''\n",
    "mean_svd = np.mean(array_SVD[array_SVD != -1000])\n",
    "array_SVD[array_SVD==-1000] = mean_svd\n",
    "\n",
    "mean_knn = np.mean(array_KNN[array_KNN != -1000])\n",
    "array_KNN[array_KNN==-1000] = mean_knn\n",
    "\n",
    "mean_nmf = np.mean(array_NMF[array_NMF != -1000])\n",
    "array_NMF[array_NMF==-1000] = mean_nmf\n",
    "\n",
    "mean_slopeone = np.mean(array_SlopeOne[array_SlopeOne != -1000])\n",
    "array_SlopeOne[array_SlopeOne==-1000] = mean_slopeone\n",
    "\n",
    "mean_coclustering = np.mean(array_CoClustering[array_CoClustering != -1000])\n",
    "array_CoClustering[array_CoClustering==-1000] = mean_coclustering\n",
    "'''\n",
    "\n",
    "#apparement plus d'erreur en faisant les -1 la cell d'avant"
   ]
  },
  {
   "cell_type": "markdown",
   "metadata": {},
   "source": [
    "### Blending "
   ]
  },
  {
   "cell_type": "code",
   "execution_count": null,
   "metadata": {},
   "outputs": [],
   "source": [
    "'''\n",
    "Full blending to do\n",
    "Either by \n",
    "-using some model like linear regression\n",
    "-ponderation\n",
    "-something else, can be worked in the blending branch\n",
    "\n",
    "results in final_array\n",
    "'''\n",
    "\n",
    "#here we blend simply by taking the mean of all models\n",
    "tmp = np.concatenate((array_SVD, array_KNN, array_NMF, array_SlopeOne, array_CoClustering), axis=1 )\n",
    "final_array = np.mean(tmp, axis=1)\n",
    "final_array[final_array>5]=5\n",
    "final_array[final_array<1]=1\n",
    "final_array"
   ]
  },
  {
   "cell_type": "markdown",
   "metadata": {},
   "source": [
    "## Transformation en submission"
   ]
  },
  {
   "cell_type": "code",
   "execution_count": null,
   "metadata": {},
   "outputs": [],
   "source": [
    "df2.Prediction = final_array"
   ]
  },
  {
   "cell_type": "code",
   "execution_count": null,
   "metadata": {},
   "outputs": [],
   "source": [
    "df2 = df2.drop(columns=[\"user\", \"item\"])"
   ]
  },
  {
   "cell_type": "code",
   "execution_count": null,
   "metadata": {},
   "outputs": [],
   "source": [
    "df2.to_csv(\"Datasets/submission_pipeline.csv\", index=False)"
   ]
  }
 ],
 "metadata": {
  "kernelspec": {
   "display_name": "Python 3",
   "language": "python",
   "name": "python3"
  },
  "language_info": {
   "codemirror_mode": {
    "name": "ipython",
    "version": 3
   },
   "file_extension": ".py",
   "mimetype": "text/x-python",
   "name": "python",
   "nbconvert_exporter": "python",
   "pygments_lexer": "ipython3",
   "version": "3.6.9"
  }
 },
 "nbformat": 4,
 "nbformat_minor": 4
}
