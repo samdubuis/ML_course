{
 "cells": [
  {
   "cell_type": "code",
   "execution_count": 1,
   "metadata": {},
   "outputs": [
    {
     "name": "stdout",
     "output_type": "stream",
     "text": [
      "launched at :  2019-12-17 18:45:42.278807\n",
      "IMPORT DONE\n",
      "DATA AND READER ARE READY\n",
      "\n"
     ]
    }
   ],
   "source": [
    "import datetime\n",
    "time = datetime.datetime.now()\n",
    "print(\"launched at : \", time)\n",
    "import pandas as pd\n",
    "import numpy as np\n",
    "\n",
    "#!pip3 install surprise\n",
    "from surprise import *\n",
    "from sklearn.linear_model import RidgeCV\n",
    "from sklearn.model_selection import train_test_split\n",
    "\n",
    "def standardize(x):\n",
    "    \"\"\"Standardize the original data set.\"\"\"\n",
    "    mean_x = np.mean(x)\n",
    "    x = x - mean_x\n",
    "    std_x = np.std(x)\n",
    "    x = x / std_x\n",
    "    return x, mean_x, std_x\n",
    "\n",
    "print(\"IMPORT DONE\")\n",
    "\n",
    "# n_jobs = int(input(\"Value for how many processors to use : (-1 is all, -2 is all except one) \"))\n",
    "# print(\"\")\n",
    "\n",
    "############\n",
    "df = pd.read_csv(\"Datasets/data_train.csv\")\n",
    "\n",
    "df[[\"user\", \"item\"]] = df.Id.str.split(\"_\", expand=True)\n",
    "\n",
    "df.user = df.user.str.replace(\"r\", \"\")\n",
    "df.item = df.item.str.replace(\"c\", \"\")\n",
    "\n",
    "reader = Reader(rating_scale=(1,5)) \n",
    "df_7, df_3 = train_test_split(df, train_size=0.7, random_state=1)\n",
    "\n",
    "tmp7 = Dataset.load_from_df(df_7[[\"user\",\"item\",\"Prediction\"]], reader)\n",
    "tmp3 = Dataset.load_from_df(df_3[[\"user\",\"item\",\"Prediction\"]], reader)\n",
    "data_train_7 = tmp7.build_full_trainset()\n",
    "data_train_3 = tmp3.build_full_trainset()\n",
    "print(\"DATA AND READER ARE READY\")\n",
    "print(\"\")\n"
   ]
  },
  {
   "cell_type": "code",
   "execution_count": 2,
   "metadata": {},
   "outputs": [],
   "source": [
    "df2 = pd.read_csv(\"Datasets/sample_submission.csv\")\n",
    "\n",
    "df2[[\"user\", \"item\"]] = df2.Id.str.split(\"_\", expand=True)\n",
    "\n",
    "df2.user = df2.user.str.replace(\"r\", \"\")\n",
    "df2.item = df2.item.str.replace(\"c\", \"\")\n",
    "\n",
    "reader = Reader(rating_scale=(1,5)) \n",
    "data_test = Dataset.load_from_df(df2[[\"user\",\"item\",\"Prediction\"]], reader)\n",
    "test = data_test.construct_testset(data_test.raw_ratings)"
   ]
  },
  {
   "cell_type": "code",
   "execution_count": 3,
   "metadata": {},
   "outputs": [],
   "source": [
    "X = np.load(\"npy/X_2.npy\")\n",
    "pred_array = np.load(\"npy/pred_array_2.npy\")"
   ]
  },
  {
   "cell_type": "code",
   "execution_count": 4,
   "metadata": {},
   "outputs": [],
   "source": [
    "y=df_3.Prediction.values\n",
    "clf=RidgeCV(alphas=np.linspace(10**-5,1,10),cv=10)\n",
    "clf=clf.fit(X,y)"
   ]
  },
  {
   "cell_type": "code",
   "execution_count": 5,
   "metadata": {},
   "outputs": [
    {
     "data": {
      "text/plain": [
       "array([-0.21966809,  0.17497274, -0.04549438,  0.27422431,  0.64131247,\n",
       "        0.27095068,  0.28502718, -0.29926261])"
      ]
     },
     "execution_count": 5,
     "metadata": {},
     "output_type": "execute_result"
    }
   ],
   "source": [
    "clf.coef_"
   ]
  },
  {
   "cell_type": "code",
   "execution_count": 6,
   "metadata": {},
   "outputs": [],
   "source": [
    "pred=clf.predict(pred_array.T)\n",
    "final_array=np.rint(pred)"
   ]
  },
  {
   "cell_type": "code",
   "execution_count": 7,
   "metadata": {},
   "outputs": [],
   "source": [
    "final_array[np.where(final_array>5)]=5\n",
    "final_array[np.where(final_array<1)]=1"
   ]
  },
  {
   "cell_type": "code",
   "execution_count": 8,
   "metadata": {},
   "outputs": [
    {
     "data": {
      "text/plain": [
       "array([2., 2., 2., ..., 2., 2., 2.])"
      ]
     },
     "execution_count": 8,
     "metadata": {},
     "output_type": "execute_result"
    }
   ],
   "source": [
    "final_array[final_array<3]"
   ]
  },
  {
   "cell_type": "code",
   "execution_count": 9,
   "metadata": {},
   "outputs": [
    {
     "data": {
      "text/plain": [
       "(array([1., 2., 3., 4., 5.]), array([   131,  13638, 268764, 773732, 120687]))"
      ]
     },
     "execution_count": 9,
     "metadata": {},
     "output_type": "execute_result"
    }
   ],
   "source": [
    "np.unique(final_array,return_counts=True)\n"
   ]
  },
  {
   "cell_type": "code",
   "execution_count": 54,
   "metadata": {},
   "outputs": [
    {
     "name": "stdout",
     "output_type": "stream",
     "text": [
      "EVERYTHING DONE\n"
     ]
    }
   ],
   "source": [
    "df2.Prediction = final_array\n",
    "df2 = df2.drop(columns=[\"user\", \"item\"])\n",
    "df2.to_csv(\"Datasets/submission_run_script.csv\", index=False)\n",
    "\n",
    "print(\"EVERYTHING DONE\")"
   ]
  },
  {
   "cell_type": "code",
   "execution_count": null,
   "metadata": {},
   "outputs": [],
   "source": []
  }
 ],
 "metadata": {
  "kernelspec": {
   "display_name": "Python 3",
   "language": "python",
   "name": "python3"
  },
  "language_info": {
   "codemirror_mode": {
    "name": "ipython",
    "version": 3
   },
   "file_extension": ".py",
   "mimetype": "text/x-python",
   "name": "python",
   "nbconvert_exporter": "python",
   "pygments_lexer": "ipython3",
   "version": "3.7.5"
  }
 },
 "nbformat": 4,
 "nbformat_minor": 4
}
